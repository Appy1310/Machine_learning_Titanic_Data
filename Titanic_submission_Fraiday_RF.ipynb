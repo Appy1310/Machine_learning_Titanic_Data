{
 "cells": [
  {
   "cell_type": "code",
   "execution_count": 1,
   "metadata": {},
   "outputs": [],
   "source": [
    "import pandas as pd\n",
    "import seaborn as sns\n",
    "import numpy as np\n",
    "import matplotlib as plt\n",
    "\n",
    "from sklearn.pipeline import Pipeline\n",
    "from sklearn.compose import ColumnTransformer\n",
    "from sklearn.preprocessing import OneHotEncoder\n",
    "from sklearn.linear_model import LogisticRegression\n",
    "from sklearn.model_selection import train_test_split\n",
    "from sklearn.metrics import accuracy_score"
   ]
  },
  {
   "cell_type": "code",
   "execution_count": 2,
   "metadata": {},
   "outputs": [],
   "source": [
    "df_train = pd.read_csv('train.csv')\n"
   ]
  },
  {
   "cell_type": "code",
   "execution_count": 3,
   "metadata": {},
   "outputs": [],
   "source": [
    "def add_column(I):\n",
    "    list_column = I.columns\n",
    "    ac = 0\n",
    "    for column in list_column:\n",
    "        ac = ac + I[column] \n",
    "    ac = pd.DataFrame(ac)\n",
    "    return ac"
   ]
  },
  {
   "cell_type": "code",
   "execution_count": 4,
   "metadata": {},
   "outputs": [],
   "source": [
    "def mult_column(I):\n",
    "    I = pd.DataFrame(I)\n",
    "    list_column = I.columns\n",
    "    mc = 1\n",
    "    for column in list_column:\n",
    "        mc = mc * I[column] \n",
    "    mc = pd.DataFrame(mc)\n",
    "    return mc"
   ]
  },
  {
   "cell_type": "code",
   "execution_count": 5,
   "metadata": {},
   "outputs": [],
   "source": [
    "def column_cube(I):\n",
    "    I = pd.DataFrame(I)\n",
    "    list_column = I.columns\n",
    "    c3 = 1\n",
    "    for column in list_column:\n",
    "        c3 = c3 * I[column]^3 \n",
    "    c3 = pd.DataFrame(c3)\n",
    "    return c3"
   ]
  },
  {
   "cell_type": "code",
   "execution_count": 6,
   "metadata": {},
   "outputs": [],
   "source": [
    "y = df_train['Survived']\n",
    "X = df_train.loc[:, df_train.columns != 'Survived']\n"
   ]
  },
  {
   "cell_type": "code",
   "execution_count": 7,
   "metadata": {},
   "outputs": [],
   "source": [
    "X_train, X_test, y_train, y_test = train_test_split(X, y, test_size=0.3, random_state=45)"
   ]
  },
  {
   "cell_type": "code",
   "execution_count": 8,
   "metadata": {},
   "outputs": [],
   "source": [
    "from sklearn.preprocessing import OneHotEncoder\n",
    "from sklearn.pipeline import make_pipeline\n",
    "from sklearn.impute import SimpleImputer\n",
    "from sklearn.compose import make_column_transformer\n",
    "from sklearn.pipeline import make_pipeline\n",
    "from sklearn.preprocessing import StandardScaler\n",
    "from sklearn.preprocessing import FunctionTransformer"
   ]
  },
  {
   "cell_type": "code",
   "execution_count": 10,
   "metadata": {},
   "outputs": [],
   "source": [
    "age_pipeline = make_pipeline(\n",
    "    (SimpleImputer(missing_values=np.nan, strategy='mean')),\n",
    "    (StandardScaler()),\n",
    ")\n",
    "emb_pipeline = make_pipeline(\n",
    "    (SimpleImputer(missing_values=np.nan, strategy='most_frequent')),\n",
    "    (OneHotEncoder(sparse=False, handle_unknown='ignore')),\n",
    ")\n",
    "fare_pipeline = make_pipeline(\n",
    "    (SimpleImputer(missing_values=np.nan, strategy='mean')),\n",
    "    (StandardScaler()),\n",
    "    #(FunctionTransformer(mult_column, validate=False))\n",
    ")\n",
    "mult_pipeline = make_pipeline(\n",
    "    (SimpleImputer(missing_values=np.nan, strategy='mean')),\n",
    "    (StandardScaler()),\n",
    "    (FunctionTransformer(mult_column, validate=False)),  \n",
    "     )"
   ]
  },
  {
   "cell_type": "code",
   "execution_count": 11,
   "metadata": {},
   "outputs": [],
   "source": [
    "transformer = make_column_transformer(\n",
    "    # (transformer object, column names)\n",
    "    (age_pipeline, ['Age']),\n",
    "    (emb_pipeline, ['Embarked']),\n",
    "    (fare_pipeline, ['Fare']),\n",
    "    (OneHotEncoder(sparse=False), ['Pclass']),\n",
    "    (OneHotEncoder(sparse=False), ['Sex']),\n",
    "    (FunctionTransformer(add_column, validate=False), ['SibSp', 'Parch']),\n",
    "    #(FunctionTransformer(mult_column, validate=False), ['Pclass', 'Fare']),\n",
    "    (mult_pipeline, ['Pclass', 'Age']),\n",
    "    #(mult_pipeline, ['Pclass', 'Sex']),\n",
    "    #(FunctionTransformer(mult_column, validate=False), ['Pclass', 'Sex']),\n",
    "    (FunctionTransformer(column_cube, validate=False), ['SibSp']),\n",
    "    )"
   ]
  },
  {
   "cell_type": "code",
   "execution_count": 12,
   "metadata": {},
   "outputs": [],
   "source": [
    "transformer.fit(X_train)\n",
    "X_test_trans = transformer.transform(X_train)\n",
    "X_test_trans = pd.DataFrame(X_test_trans)\n",
    "#X_test_trans\n"
   ]
  },
  {
   "cell_type": "code",
   "execution_count": 13,
   "metadata": {},
   "outputs": [],
   "source": [
    "X_train_trans = transformer.transform(X_train)\n",
    "X_test_trans = transformer.transform(X_test)"
   ]
  },
  {
   "cell_type": "code",
   "execution_count": 14,
   "metadata": {},
   "outputs": [],
   "source": [
    "from sklearn.ensemble import RandomForestClassifier\n",
    "\n",
    "model_rf = RandomForestClassifier(n_estimators=1000, max_depth=5, n_jobs=1) # CPUs (-1 = all)"
   ]
  },
  {
   "cell_type": "code",
   "execution_count": 15,
   "metadata": {},
   "outputs": [
    {
     "data": {
      "text/plain": [
       "RandomForestClassifier(max_depth=5, n_estimators=1000, n_jobs=1)"
      ]
     },
     "execution_count": 15,
     "metadata": {},
     "output_type": "execute_result"
    }
   ],
   "source": [
    "model_rf.fit(X_train_trans, y_train)"
   ]
  },
  {
   "cell_type": "code",
   "execution_count": 16,
   "metadata": {},
   "outputs": [],
   "source": [
    "y_pred_rf = model_rf.predict(X_test_trans)\n"
   ]
  },
  {
   "cell_type": "code",
   "execution_count": 17,
   "metadata": {},
   "outputs": [
    {
     "data": {
      "text/plain": [
       "0.8544776119402985"
      ]
     },
     "execution_count": 17,
     "metadata": {},
     "output_type": "execute_result"
    }
   ],
   "source": [
    "accuracy_score(y_pred_rf, y_test)"
   ]
  },
  {
   "cell_type": "code",
   "execution_count": 18,
   "metadata": {},
   "outputs": [],
   "source": [
    "df_test = pd.read_csv('test.csv')\n",
    "#X_Kaggle = df_test.drop(['Cabin'], axis=1)\n",
    "X_Kaggle = df_test\n"
   ]
  },
  {
   "cell_type": "code",
   "execution_count": 20,
   "metadata": {},
   "outputs": [],
   "source": [
    "X_test_cleaned = transformer.transform(X_Kaggle)\n",
    "X_test_cleaned=pd.DataFrame(X_test_cleaned)\n",
    "#X_test_cleaned.isnull().sum()"
   ]
  },
  {
   "cell_type": "code",
   "execution_count": 21,
   "metadata": {},
   "outputs": [],
   "source": [
    "predictions = model_rf.predict(X_test_cleaned)\n",
    "#predictions"
   ]
  },
  {
   "cell_type": "code",
   "execution_count": 22,
   "metadata": {},
   "outputs": [
    {
     "data": {
      "text/html": [
       "<div>\n",
       "<style scoped>\n",
       "    .dataframe tbody tr th:only-of-type {\n",
       "        vertical-align: middle;\n",
       "    }\n",
       "\n",
       "    .dataframe tbody tr th {\n",
       "        vertical-align: top;\n",
       "    }\n",
       "\n",
       "    .dataframe thead th {\n",
       "        text-align: right;\n",
       "    }\n",
       "</style>\n",
       "<table border=\"1\" class=\"dataframe\">\n",
       "  <thead>\n",
       "    <tr style=\"text-align: right;\">\n",
       "      <th></th>\n",
       "      <th>PassengerId</th>\n",
       "      <th>Survived</th>\n",
       "    </tr>\n",
       "  </thead>\n",
       "  <tbody>\n",
       "    <tr>\n",
       "      <th>0</th>\n",
       "      <td>892</td>\n",
       "      <td>0</td>\n",
       "    </tr>\n",
       "    <tr>\n",
       "      <th>1</th>\n",
       "      <td>893</td>\n",
       "      <td>0</td>\n",
       "    </tr>\n",
       "    <tr>\n",
       "      <th>2</th>\n",
       "      <td>894</td>\n",
       "      <td>0</td>\n",
       "    </tr>\n",
       "    <tr>\n",
       "      <th>3</th>\n",
       "      <td>895</td>\n",
       "      <td>0</td>\n",
       "    </tr>\n",
       "    <tr>\n",
       "      <th>4</th>\n",
       "      <td>896</td>\n",
       "      <td>1</td>\n",
       "    </tr>\n",
       "  </tbody>\n",
       "</table>\n",
       "</div>"
      ],
      "text/plain": [
       "   PassengerId  Survived\n",
       "0          892         0\n",
       "1          893         0\n",
       "2          894         0\n",
       "3          895         0\n",
       "4          896         1"
      ]
     },
     "execution_count": 22,
     "metadata": {},
     "output_type": "execute_result"
    }
   ],
   "source": [
    "submission = pd.DataFrame({'PassengerId':X_Kaggle['PassengerId'],'Survived':predictions})\n",
    "submission.head()"
   ]
  },
  {
   "cell_type": "code",
   "execution_count": 23,
   "metadata": {},
   "outputs": [
    {
     "name": "stdout",
     "output_type": "stream",
     "text": [
      "Saved file: Titanic_Predictions_Friday2.csv\n"
     ]
    }
   ],
   "source": [
    "filename = 'Titanic_Predictions_Friday2.csv'\n",
    "\n",
    "submission.to_csv(filename,index=False)\n",
    "\n",
    "print('Saved file: ' + filename)"
   ]
  },
  {
   "cell_type": "code",
   "execution_count": null,
   "metadata": {},
   "outputs": [],
   "source": []
  }
 ],
 "metadata": {
  "kernelspec": {
   "display_name": "Python 3",
   "language": "python",
   "name": "python3"
  },
  "language_info": {
   "codemirror_mode": {
    "name": "ipython",
    "version": 3
   },
   "file_extension": ".py",
   "mimetype": "text/x-python",
   "name": "python",
   "nbconvert_exporter": "python",
   "pygments_lexer": "ipython3",
   "version": "3.7.3"
  }
 },
 "nbformat": 4,
 "nbformat_minor": 4
}
